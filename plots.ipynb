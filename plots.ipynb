{
 "cells": [
  {
   "cell_type": "code",
   "execution_count": null,
   "metadata": {
    "collapsed": true
   },
   "outputs": [],
   "source": [
    "from pyfits import getdata, PrimaryHDU\n",
    "import numpy as np\n",
    "import os\n",
    "from tools_sofi import astroim, rdarg, stack, pdfim, analysis, angdist\n",
    "from sys import argv\n",
    "from random import randint\n",
    "import matplotlib.mlab as mlab\n",
    "from matplotlib.colors import LinearSegmentedColormap\n",
    "from scipy.stats import norm\n",
    "import matplotlib.pyplot as plt\n",
    "from matplotlib.ticker import ScalarFormatter\n",
    "from astropy.io import fits\n",
    "import re\n",
    "from tools_sofi import rdarg, sclipping\n",
    "from copy import copy"
   ]
  }
 ],
 "metadata": {
  "kernelspec": {
   "display_name": "Python 2",
   "language": "python",
   "name": "python2"
  },
  "language_info": {
   "codemirror_mode": {
    "name": "ipython",
    "version": 2
   },
   "file_extension": ".py",
   "mimetype": "text/x-python",
   "name": "python",
   "nbconvert_exporter": "python",
   "pygments_lexer": "ipython2",
   "version": "2.7.6"
  }
 },
 "nbformat": 4,
 "nbformat_minor": 0
}
